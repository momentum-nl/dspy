{
 "cells": [
  {
   "cell_type": "markdown",
   "metadata": {},
   "source": [
    "<img src=\"../../docs/docs/static/img/dspy_logo.png\" alt=\"DSPy7 Image\" height=\"150\"/>\n",
    "\n",
    "## **DSPy Vision**: Working with images\n",
    "\n",
    "### **Example**: How to work with images in DSPy"
   ]
  },
  {
   "cell_type": "code",
   "execution_count": null,
   "metadata": {},
   "outputs": [],
   "source": [
    "# Imports\n",
    "import dspy\n",
    "from dotenv import load_dotenv\n",
    "load_dotenv()"
   ]
  },
  {
   "cell_type": "markdown",
   "metadata": {},
   "source": [
    "### LM instantiation\n",
    "When instantiating a LM pass the `model_type='vision'` so DSPy can validate if the LM is vision capable."
   ]
  },
  {
   "cell_type": "code",
   "execution_count": 2,
   "metadata": {},
   "outputs": [],
   "source": [
    "# Setup LM\n",
    "gpt_4o_mini = dspy.LM('openai/gpt-4o-mini', temperature=0.9, max_tokens=3000, stop=None, cache=False, model_type='vision')\n",
    "dspy.configure(lm=gpt_4o_mini)"
   ]
  },
  {
   "cell_type": "markdown",
   "metadata": {},
   "source": [
    "### InputField\n",
    "When instantiating an image InputField pass `is_image_url=True` so DSPy can create the write structure when calling the LLM."
   ]
  },
  {
   "cell_type": "code",
   "execution_count": 3,
   "metadata": {},
   "outputs": [],
   "source": [
    "# Classifier signature\n",
    "class ImageClassificationSignature(dspy.Signature):\n",
    "    \"\"\"You are an image classification agent tasked with describing what you see in the attached image.\"\"\"\n",
    "\n",
    "    image = dspy.InputField(is_image_url=True, desc=\"Image to be described\")\n",
    "    answer = dspy.OutputField(desc=\"Image description\")"
   ]
  },
  {
   "cell_type": "markdown",
   "metadata": {},
   "source": [
    "### Passing the image\n",
    "The image can be passed as a url."
   ]
  },
  {
   "cell_type": "code",
   "execution_count": 5,
   "metadata": {},
   "outputs": [
    {
     "data": {
      "text/plain": [
       "Prediction(\n",
       "    answer='The image features a logo for Dspy, which consists of the word \"Dspy\" in a modern font. The letters are designed with a gradient color scheme, blending shades of blue and purple. The background of the logo is white, making the text stand out clearly. There are no additional graphics or images, focusing solely on the brand name.'\n",
       ")"
      ]
     },
     "execution_count": 5,
     "metadata": {},
     "output_type": "execute_result"
    }
   ],
   "source": [
    "# Call signature direct with predict without pipeline\n",
    "classify = dspy.Predict(ImageClassificationSignature)\n",
    "classify(image=\"https://dspy-docs.vercel.app/static/img/dspy_logo.png\")"
   ]
  },
  {
   "cell_type": "markdown",
   "metadata": {},
   "source": [
    "### Passing the image\n",
    "The image can be passed as a base64 encoded string."
   ]
  },
  {
   "cell_type": "code",
   "execution_count": 6,
   "metadata": {},
   "outputs": [
    {
     "data": {
      "text/plain": [
       "Prediction(\n",
       "    answer='The image appears to be a large and complex collection of various colorful abstract patterns and shapes. The colors are vibrant, featuring a mix of blues, reds, greens, and yellows with intricate designs that seem to resemble organic forms or fluid motion. The overall appearance is dynamic, creating a sense of movement and depth. There are no clear identifiable objects, making it an abstract representation that invites viewer interpretation.'\n",
       ")"
      ]
     },
     "execution_count": 6,
     "metadata": {},
     "output_type": "execute_result"
    }
   ],
   "source": [
    "# Call signature direct with predict without pipeline\n",
    "classify = dspy.Predict(ImageClassificationSignature)\n",
    "classify(image=\"data:image/png;base64,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\")"
   ]
  }
 ],
 "metadata": {
  "kernelspec": {
   "display_name": "venv",
   "language": "python",
   "name": "python3"
  },
  "language_info": {
   "codemirror_mode": {
    "name": "ipython",
    "version": 3
   },
   "file_extension": ".py",
   "mimetype": "text/x-python",
   "name": "python",
   "nbconvert_exporter": "python",
   "pygments_lexer": "ipython3",
   "version": "3.12.5"
  }
 },
 "nbformat": 4,
 "nbformat_minor": 2
}
